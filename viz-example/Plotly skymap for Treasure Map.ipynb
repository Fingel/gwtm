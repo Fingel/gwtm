{
 "cells": [
  {
   "cell_type": "code",
   "execution_count": 1,
   "metadata": {},
   "outputs": [],
   "source": [
    "import math\n",
    "import numpy as np\n",
    "import pandas as pd\n",
    "from plotly.graph_objs import *\n",
    "import plotly\n",
    "import plotly.graph_objs as go\n",
    "import pickle\n",
    "\n",
    "dtor = math.pi/180"
   ]
  },
  {
   "cell_type": "markdown",
   "metadata": {},
   "source": [
    "# Load Map + make contours \n",
    "# (optional, only if you want to recreate contours)\n",
    "# (otherwise, skip down to loading contours from file"
   ]
  },
  {
   "cell_type": "code",
   "execution_count": 2,
   "metadata": {},
   "outputs": [],
   "source": [
    "from astropy.utils.data import download_file\n",
    "from ligo.skymap.io import *\n",
    "import ligo.skymap"
   ]
  },
  {
   "cell_type": "code",
   "execution_count": 3,
   "metadata": {},
   "outputs": [],
   "source": [
    "url= 'https://gracedb.ligo.org/apiweb/superevents/S190510g/files/LALInference.fits.gz,0'\n",
    "skymapfile = download_file(url, cache=True) "
   ]
  },
  {
   "cell_type": "code",
   "execution_count": 4,
   "metadata": {},
   "outputs": [],
   "source": [
    "skymap, metadata = ligo.skymap.io.fits.read_sky_map(url, nest=None)"
   ]
  },
  {
   "cell_type": "code",
   "execution_count": null,
   "metadata": {},
   "outputs": [],
   "source": [
    "#VERY VERY VERY SLOW. Only run once to generate the file. There is better way to do this. \n",
    "#Writes to .geojson format file.\n",
    "#from ligo.skymap.tool.ligo_skymap_contour import main\n",
    "#main([skymapfile,'--contour','50','90','--simplify', '-o', 'contours-smooth.json']) #add --simplify"
   ]
  },
  {
   "cell_type": "markdown",
   "metadata": {},
   "source": [
    "# Load GW contours from geojson file"
   ]
  },
  {
   "cell_type": "code",
   "execution_count": 7,
   "metadata": {},
   "outputs": [],
   "source": [
    "#smoothed caled contours.json in home directory\n",
    "contours_data=pd.read_json('contours-smooth.json')"
   ]
  },
  {
   "cell_type": "code",
   "execution_count": 8,
   "metadata": {},
   "outputs": [],
   "source": [
    "pathlist = []\n",
    "for contour in contours_data['features']:\n",
    "    level = contour['properties']['credible_level']\n",
    "    pathlist.extend(contour['geometry']['coordinates'])"
   ]
  },
  {
   "cell_type": "code",
   "execution_count": 9,
   "metadata": {},
   "outputs": [],
   "source": [
    "def make_contours(pathlist):\n",
    "    footprints=[]\n",
    "    for path in pathlist:\n",
    "        ras, decs = zip(*path)\n",
    "        ras=list(ras)\n",
    "        decs=list(decs)\n",
    "        #ras.reverse()\n",
    "        #decs.reverse()\n",
    "        footprint = Scattergeo(\n",
    "            lon=ras,\n",
    "            lat=decs,\n",
    "            line=scattergeo.Line(\n",
    "                color='rgb(127, 127, 127)',\n",
    "                width=.5,\n",
    "            ),\n",
    "            visible= True,\n",
    "            mode='lines',\n",
    "            hoverinfo='none')\n",
    "        footprints.append(footprint)\n",
    "    return footprints"
   ]
  },
  {
   "cell_type": "code",
   "execution_count": 73,
   "metadata": {},
   "outputs": [],
   "source": [
    "GWfootprints= make_contours(pathlist)"
   ]
  },
  {
   "cell_type": "markdown",
   "metadata": {},
   "source": [
    "# Polygons to Footprints"
   ]
  },
  {
   "cell_type": "code",
   "execution_count": 67,
   "metadata": {},
   "outputs": [],
   "source": [
    "#this takes a polygon in skycoords in the form of a list of tuples of ra,decs ie ((0,0)(0,1)(1,1)(1,0))\n",
    "#and returns a footprint object\n",
    "def polygon2footprint(polygon, instrument):\n",
    "    #split list of poly corners into ra list and dec list\n",
    "    ras,decs = zip(*polygon)\n",
    "    ras=list(ras)\n",
    "    decs=list(decs)\n",
    "    #have to 'close' the poly list for the filling to work correctly\n",
    "    ras.append(ras[0])\n",
    "    decs.append(decs[0])\n",
    "    # if you make the plot and the whole damn thing is filled in, reverse the direction of the footprints\n",
    "    # plotly seems to determine the 'inside'  and 'outside' of footprints based on the clockwise/counter direction of the trace\n",
    "    #ras.reverse()\n",
    "    #decs.reverse()\n",
    "    if instrument == 'XRT':\n",
    "        color = 'rgb(0, 139, 205)'\n",
    "    elif instrument == 'UVOT':\n",
    "        color = 'rgb(213, 62, 79)'\n",
    "    \n",
    "    footprint = Scattergeo(\n",
    "            lon=ras,\n",
    "            lat=decs,\n",
    "            line=scattergeo.Line(\n",
    "                color=color,\n",
    "                width=.5,\n",
    "            ),\n",
    "            fill=\"toself\",\n",
    "            mode='lines',\n",
    "            hoverinfo='none')\n",
    "    return footprint"
   ]
  },
  {
   "cell_type": "code",
   "execution_count": 23,
   "metadata": {},
   "outputs": [],
   "source": [
    "with open('xrtpolys', 'rb') as f:\n",
    "    XRTpolygons = pickle.load(f)"
   ]
  },
  {
   "cell_type": "code",
   "execution_count": 63,
   "metadata": {},
   "outputs": [],
   "source": [
    "with open('uvotpolys', 'rb') as f:\n",
    "    UVOTpolygons = pickle.load(f)"
   ]
  },
  {
   "cell_type": "code",
   "execution_count": 68,
   "metadata": {},
   "outputs": [],
   "source": [
    "UVOTfootprints = []\n",
    "for polygon in UVOTpolygons:\n",
    "    footprint = polygon2footprint(polygon,'UVOT')\n",
    "    UVOTfootprints.append(footprint)"
   ]
  },
  {
   "cell_type": "code",
   "execution_count": 69,
   "metadata": {},
   "outputs": [],
   "source": [
    "XRTfootprints = []\n",
    "for polygon in XRTpolygons:\n",
    "    footprint = polygon2footprint(polygon,'XRT')\n",
    "    XRTfootprints.append(footprint)"
   ]
  },
  {
   "cell_type": "markdown",
   "metadata": {},
   "source": [
    "# Make the Plot"
   ]
  },
  {
   "cell_type": "code",
   "execution_count": 75,
   "metadata": {},
   "outputs": [
    {
     "name": "stdout",
     "output_type": "stream",
     "text": [
      "This takes <20 sec to run, be patient.\n"
     ]
    },
    {
     "data": {
      "text/plain": [
       "'temp-plot.html'"
      ]
     },
     "execution_count": 75,
     "metadata": {},
     "output_type": "execute_result"
    }
   ],
   "source": [
    "data = [\n",
    "        dict(\n",
    "            lon=list(range(0, 360, 60))+[180]*4,\n",
    "            lat=[0]*6+[-60, -30, 30, 60],\n",
    "            text=list(range(0, 360, 60))+[-60, -30, 30, 60],\n",
    "            hoverinfo='none',\n",
    "            mode='text',\n",
    "            type='scattergeo'\n",
    "        )\n",
    "]\n",
    "data.extend(GWfootprints)\n",
    "data.extend(XRTfootprints)\n",
    "data.extend(UVOTfootprints)\n",
    "\n",
    "#data.extend([BATtrace1])\n",
    "#data.extend([BATtrace50])\n",
    "\n",
    "\n",
    "#this is how i make the buttons to turn different Instruments on and off\n",
    "baselist = [True]+([True]*len(GW_footprints))\n",
    "xrtshowlist = baselist + ([True]*len(XRTfootprints)) + ([False]*len(UVOTfootprints))\n",
    "uvotshowlist= baselist + ([False]*len(XRTfootprints)) + ([True]*len(UVOTfootprints))\n",
    "\n",
    "updatemenus = list([\n",
    "    dict(type=\"buttons\",\n",
    "         active=-1,\n",
    "         buttons=list([\n",
    "            dict(label = 'UVOT',\n",
    "                 method = 'update',\n",
    "                 args = [{'visible': uvotshowlist},\n",
    "                         {'title': 'UVOT Fields'}]),\n",
    "            dict(label = 'XRT',\n",
    "                 method = 'update',\n",
    "                 args = [{'visible': xrtshowlist},\n",
    "                         {'title': 'XRT Fields'}])\n",
    "        ]),\n",
    "    )\n",
    "])\n",
    "\n",
    "layout = {\n",
    "    'title': 'GW Tiling Plot',\n",
    "    'hovermode': 'closest',\n",
    "    'showlegend': False,\n",
    "    'updatemenus': updatemenus,\n",
    "    'geo': {\n",
    "        'projection': {\n",
    "            'type': 'mollweide',\n",
    "        },\n",
    "        'showcoastlines': False,\n",
    "        'lonaxis': {\n",
    "            'showgrid': True,\n",
    "            'range': [0, 360],\n",
    "        },\n",
    "        'lataxis': {\n",
    "            'showgrid': True,\n",
    "            'range': [-90, 90],\n",
    "        },\n",
    "    }\n",
    "}\n",
    "print('This takes <20 sec to run, be patient.')\n",
    "plotly.offline.plot(go.Figure(data=data, layout=layout)) \n",
    "#right now this runs and makes a temp-plot.html file in your directory, \n",
    "#but you have to stop the kernel manually for some reason...\n",
    "#better to write the div explicitly as below, but I usually use this method for quick testing"
   ]
  },
  {
   "cell_type": "markdown",
   "metadata": {},
   "source": [
    "# Make webpage"
   ]
  },
  {
   "cell_type": "code",
   "execution_count": null,
   "metadata": {},
   "outputs": [],
   "source": [
    "#create the div only, for inclusion in a webpage, need to source <script src=\"https://cdn.plot.ly/plotly-latest.min.js\"></script> \n",
    "#before div\n",
    "thediv = plotly.offline.plot(go.Figure(data=data, layout=layout), include_plotlyjs=False, output_type='div')"
   ]
  },
  {
   "cell_type": "code",
   "execution_count": null,
   "metadata": {},
   "outputs": [],
   "source": [
    "#something like this\n",
    "html_string = '''\n",
    "<html>\n",
    "    <head>\n",
    "      <script src=\"https://cdn.plot.ly/plotly-latest.min.js\"></script>\n",
    "      <link rel=\"stylesheet\" href=\"https://maxcdn.bootstrapcdn.com/bootstrap/3.3.1/css/bootstrap.min.css\">\n",
    "      <style>body{ margin:0 100; background:whitesmoke; }</style>\n",
    "    </head>\n",
    "    <body>\n",
    "      <h1>Monthly Report</h1>\n",
    "      ''' + thediv + '''\n",
    "    </body>\n",
    "</html>'''"
   ]
  },
  {
   "cell_type": "code",
   "execution_count": null,
   "metadata": {},
   "outputs": [],
   "source": [
    "#write HTML file\n",
    "with open(\"example.html\", 'w') as f:\n",
    "    f.write(html_string)"
   ]
  }
 ],
 "metadata": {
  "kernelspec": {
   "display_name": "Python 3",
   "language": "python",
   "name": "python3"
  },
  "language_info": {
   "codemirror_mode": {
    "name": "ipython",
    "version": 3
   },
   "file_extension": ".py",
   "mimetype": "text/x-python",
   "name": "python",
   "nbconvert_exporter": "python",
   "pygments_lexer": "ipython3",
   "version": "3.7.3"
  }
 },
 "nbformat": 4,
 "nbformat_minor": 2
}
