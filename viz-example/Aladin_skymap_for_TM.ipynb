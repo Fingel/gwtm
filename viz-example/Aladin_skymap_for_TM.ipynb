{
 "cells": [
  {
   "cell_type": "code",
   "execution_count": 1,
   "metadata": {},
   "outputs": [],
   "source": [
    "import math\n",
    "import numpy as np\n",
    "import pandas as pd\n",
    "\n",
    "import pickle\n",
    "\n",
    "dtor = math.pi/180"
   ]
  },
  {
   "cell_type": "markdown",
   "metadata": {},
   "source": [
    "# Build GW contours"
   ]
  },
  {
   "cell_type": "markdown",
   "metadata": {},
   "source": [
    "# suggest adding this GW contour maker code to the GCN listener, as it takes O(10-20 s) to run, and so should only be run once and then stored in the same directory as the skymapfile"
   ]
  },
  {
   "cell_type": "code",
   "execution_count": 6,
   "metadata": {},
   "outputs": [
    {
     "name": "stdout",
     "output_type": "stream",
     "text": [
      "20.251483917236328\n"
     ]
    }
   ],
   "source": [
    "# (optional, only if you want to recreate contours)\n",
    "# (otherwise, skip down to loading contours from file\n",
    "\n",
    "from astropy.utils.data import download_file\n",
    "import ligo.skymap.io\n",
    "import ligo.skymap\n",
    "import time\n",
    "\n",
    "#url= 'https://gracedb.ligo.org/apiweb/superevents/S190510g/files/LALInference.fits.gz,0'\n",
    "# url = 'https://gracedb.ligo.org/apiweb/superevents/S190425z/files/LALInference.fits.gz,0'\n",
    "# skymapfile = download_file(url, cache=True) \n",
    "\n",
    "# skymap, metadata = ligo.skymap.io.fits.read_sky_map(url, nest=None)\n",
    "\n",
    "# VERY VERY VERY SLOW. Only run once to generate the file. There is better way to do this. \n",
    "# Writes to .geojson format file.\n",
    "# from ligo.skymap.tool.ligo_skymap_contour import main\n",
    "\n",
    "# now = time.time()\n",
    "# main([skymapfile,'--contour','50','90','--simplify', '-o', 'contours-smooth.json']) #add --simplify\n",
    "# end = time.time()\n",
    "# print(end-now)"
   ]
  },
  {
   "cell_type": "markdown",
   "metadata": {},
   "source": [
    "# Now load the contours from where you saved them"
   ]
  },
  {
   "cell_type": "code",
   "execution_count": 7,
   "metadata": {},
   "outputs": [],
   "source": [
    "#smoothed caled contours.json in home directory\n",
    "contours_data=pd.read_json('contours-smooth.json')"
   ]
  },
  {
   "cell_type": "code",
   "execution_count": 8,
   "metadata": {},
   "outputs": [],
   "source": [
    "pathlist = []\n",
    "for contour in contours_data['features']:\n",
    "    level = contour['properties']['credible_level']\n",
    "    pathlist.extend(contour['geometry']['coordinates'])"
   ]
  },
  {
   "cell_type": "markdown",
   "metadata": {},
   "source": [
    "# Fetch tiles from treasureMap"
   ]
  },
  {
   "cell_type": "code",
   "execution_count": 9,
   "metadata": {},
   "outputs": [],
   "source": [
    "BASE = 'http://treasuremap.space/api/v0/'\n",
    "TARGET = 'pointings'"
   ]
  },
  {
   "cell_type": "code",
   "execution_count": 10,
   "metadata": {},
   "outputs": [],
   "source": [
    "import requests\n",
    "payload = {'graceid':'S190425z'}\n",
    "r = requests.get(url = BASE+TARGET, params = payload)"
   ]
  },
  {
   "cell_type": "code",
   "execution_count": 11,
   "metadata": {},
   "outputs": [
    {
     "data": {
      "text/plain": [
       "'http://treasuremap.space/api/v0/pointings?graceid=S190425z'"
      ]
     },
     "execution_count": 11,
     "metadata": {},
     "output_type": "execute_result"
    }
   ],
   "source": [
    "r.url"
   ]
  },
  {
   "cell_type": "code",
   "execution_count": 12,
   "metadata": {},
   "outputs": [],
   "source": [
    "results = r.json()"
   ]
  },
  {
   "cell_type": "code",
   "execution_count": 13,
   "metadata": {},
   "outputs": [],
   "source": [
    "pointings = []\n",
    "for tile in results:\n",
    "    tile = eval(tile)\n",
    "    position = tile[\"position\"]\n",
    "    ra = float(position.split()[1].split('(')[1])\n",
    "    dec = float(position.split()[2].split(')')[0])\n",
    "    pos_angle = tile['pos_angle']\n",
    "    instrument_id = tile['instrumentid']\n",
    "    pointings.append([instrument_id, ra,dec,pos_angle])\n"
   ]
  },
  {
   "cell_type": "markdown",
   "metadata": {},
   "source": [
    "# Fetch footprints dictionary"
   ]
  },
  {
   "cell_type": "code",
   "execution_count": 14,
   "metadata": {},
   "outputs": [],
   "source": [
    "TARGET='footprints'\n",
    "r = requests.get(url = BASE+TARGET)"
   ]
  },
  {
   "cell_type": "code",
   "execution_count": 15,
   "metadata": {},
   "outputs": [],
   "source": [
    "results = r.json()"
   ]
  },
  {
   "cell_type": "code",
   "execution_count": 16,
   "metadata": {},
   "outputs": [],
   "source": [
    "footprints_dict={}\n",
    "for footprint_obj in results:\n",
    "    footprint_obj = eval(footprint_obj)\n",
    "    inst_id = int(footprint_obj['instrumentid'])\n",
    "    footprint = footprint_obj['footprint']\n",
    "    sanitized = footprint.strip('POLYGON ').strip(')(').split(',')\n",
    "    footprint = []\n",
    "    for vertex in sanitized:\n",
    "        obj = vertex.split()\n",
    "        ra = float(obj[0])\n",
    "        dec = float(obj[1])\n",
    "        footprint.append([ra,dec])\n",
    "    new_entry = {inst_id:footprint}\n",
    "    footprints_dict.update(new_entry)"
   ]
  },
  {
   "cell_type": "code",
   "execution_count": 17,
   "metadata": {},
   "outputs": [
    {
     "data": {
      "text/plain": [
       "{9: [[-0.22083, -0.22083],\n",
       "  [-0.22083, 0.22083],\n",
       "  [0.22083, 0.22083],\n",
       "  [0.22083, -0.22083],\n",
       "  [-0.22083, -0.22083]],\n",
       " 10: [[-0.08333, -0.08333],\n",
       "  [-0.08333, 0.08333],\n",
       "  [0.08333, 0.08333],\n",
       "  [0.08333, -0.08333],\n",
       "  [-0.08333, -0.08333]],\n",
       " 11: [[-1.118, -1.118],\n",
       "  [-1.118, 1.118],\n",
       "  [1.118, 1.118],\n",
       "  [1.118, -1.118],\n",
       "  [-1.118, -1.118]],\n",
       " 12: [[-0.141667, -0.141667],\n",
       "  [-0.141667, 0.141667],\n",
       "  [0.141667, 0.141667],\n",
       "  [0.141667, -0.141667],\n",
       "  [-0.141667, -0.141667]],\n",
       " 13: [[0.2, 0.0],\n",
       "  [0.1827090915285202, -0.08134732861516003],\n",
       "  [0.1338261212717717, -0.1486289650954788],\n",
       "  [0.06180339887498949, -0.1902113032590307],\n",
       "  [-0.02090569265353067, -0.1989043790736547],\n",
       "  [-0.09999999999999996, -0.1732050807568878],\n",
       "  [-0.1618033988749895, -0.1175570504584947],\n",
       "  [-0.1956295201467611, -0.04158233816355195],\n",
       "  [-0.1956295201467612, 0.04158233816355181],\n",
       "  [-0.1618033988749895, 0.1175570504584946],\n",
       "  [-0.1000000000000001, 0.1732050807568877],\n",
       "  [-0.02090569265353085, 0.1989043790736547],\n",
       "  [0.06180339887498945, 0.1902113032590307],\n",
       "  [0.1338261212717716, 0.1486289650954789],\n",
       "  [0.1827090915285201, 0.0813473286151602],\n",
       "  [0.2, 0.0]],\n",
       " 21: [[0.0, 0.1667],\n",
       "  [0.0515, 0.1585],\n",
       "  [0.098, 0.1348],\n",
       "  [0.1348, 0.098],\n",
       "  [0.1585, 0.0515],\n",
       "  [0.1667, 0.0],\n",
       "  [0.1585, -0.0515],\n",
       "  [0.1348, -0.098],\n",
       "  [0.098, -0.1348],\n",
       "  [0.0515, -0.1585],\n",
       "  [0.0, -0.1667],\n",
       "  [-0.0515, -0.1585],\n",
       "  [-0.098, -0.1348],\n",
       "  [-0.1348, -0.098],\n",
       "  [-0.1585, -0.0515],\n",
       "  [-0.1667, 0.0],\n",
       "  [-0.1585, 0.0515],\n",
       "  [-0.1348, 0.098],\n",
       "  [-0.098, 0.1348],\n",
       "  [-0.0515, 0.1585],\n",
       "  [0.0, 0.1667]],\n",
       " 22: [[-0.0225, 0.0225],\n",
       "  [0.0225, 0.0225],\n",
       "  [0.0225, -0.0225],\n",
       "  [-0.0225, -0.0225],\n",
       "  [-0.0225, 0.0225]],\n",
       " 23: [[-0.0583, 0.0583],\n",
       "  [0.0583, 0.0583],\n",
       "  [0.0583, -0.0583],\n",
       "  [-0.0583, -0.0583],\n",
       "  [-0.0583, 0.0583]],\n",
       " 24: [[-0.0283, 0.0283],\n",
       "  [0.0283, 0.0283],\n",
       "  [0.0283, -0.0283],\n",
       "  [-0.0283, -0.0283],\n",
       "  [-0.0283, 0.0283]],\n",
       " 25: [[-0.125, 0.0667],\n",
       "  [0.125, 0.0667],\n",
       "  [0.125, -0.0667],\n",
       "  [-0.125, -0.0667],\n",
       "  [-0.125, 0.0667]],\n",
       " 26: [[-0.0342, 0.0342],\n",
       "  [0.0342, 0.0342],\n",
       "  [0.0342, -0.0342],\n",
       "  [-0.0342, -0.0342],\n",
       "  [-0.0342, 0.0342]],\n",
       " 34: [[-0.5, 0.5], [0.5, 0.5], [0.5, -0.5], [-0.5, -0.5], [-0.5, 0.5]],\n",
       " 35: [[0.0, 1.0],\n",
       "  [0.309, 0.9511],\n",
       "  [0.5878, 0.809],\n",
       "  [0.809, 0.5878],\n",
       "  [0.9511, 0.309],\n",
       "  [1.0, 0.0],\n",
       "  [0.9511, -0.309],\n",
       "  [0.809, -0.5878],\n",
       "  [0.5878, -0.809],\n",
       "  [0.309, -0.9511],\n",
       "  [0.0, -1.0],\n",
       "  [-0.309, -0.9511],\n",
       "  [-0.5878, -0.809],\n",
       "  [-0.809, -0.5878],\n",
       "  [-0.9511, -0.309],\n",
       "  [-1.0, 0.0],\n",
       "  [-0.9511, 0.309],\n",
       "  [-0.809, 0.5878],\n",
       "  [-0.5878, 0.809],\n",
       "  [-0.309, 0.9511],\n",
       "  [0.0, 1.0]],\n",
       " 36: [[-0.00028, 0.00028],\n",
       "  [0.00028, 0.00028],\n",
       "  [0.00028, -0.00028],\n",
       "  [-0.00028, -0.00028],\n",
       "  [-0.00028, 0.00028]],\n",
       " 37: [[-0.01667, 0.01667],\n",
       "  [0.01667, 0.01667],\n",
       "  [0.01667, -0.01667],\n",
       "  [-0.01667, -0.01667],\n",
       "  [-0.01667, 0.01667]],\n",
       " 38: [[0.15869, -0.82596],\n",
       "  [0.15818, -0.97514],\n",
       "  [0.45731, -0.97568],\n",
       "  [0.45786, -0.82634],\n",
       "  [0.15869, -0.82596]],\n",
       " 39: [[-0.0808, 0.0808],\n",
       "  [0.0808, 0.0808],\n",
       "  [0.0808, -0.0808],\n",
       "  [-0.0808, -0.0808],\n",
       "  [-0.0808, 0.0808]]}"
      ]
     },
     "execution_count": 17,
     "metadata": {},
     "output_type": "execute_result"
    }
   ],
   "source": [
    "footprints_dict"
   ]
  },
  {
   "cell_type": "markdown",
   "metadata": {},
   "source": [
    "# Fetch Instruments table"
   ]
  },
  {
   "cell_type": "code",
   "execution_count": 18,
   "metadata": {},
   "outputs": [],
   "source": [
    "TARGET='instruments'\n",
    "r = requests.get(url = BASE+TARGET)"
   ]
  },
  {
   "cell_type": "code",
   "execution_count": 19,
   "metadata": {},
   "outputs": [],
   "source": [
    "results=r.json()"
   ]
  },
  {
   "cell_type": "code",
   "execution_count": 20,
   "metadata": {},
   "outputs": [],
   "source": [
    "instrument_dict={}\n",
    "for instrument in results:\n",
    "    instrument=eval(instrument)\n",
    "    inst_id = instrument['id']\n",
    "    inst_name = instrument['instrument_name']\n",
    "    new_entry = {inst_id: inst_name}\n",
    "    instrument_dict.update(new_entry)"
   ]
  },
  {
   "cell_type": "code",
   "execution_count": 21,
   "metadata": {},
   "outputs": [
    {
     "data": {
      "text/plain": [
       "{9: 'Sinistro',\n",
       " 10: 'DLT40',\n",
       " 11: 'MLS10KCCD-CSS',\n",
       " 12: 'Swift_UVOT',\n",
       " 13: 'Swift_XRT',\n",
       " 22: 'MMTCam',\n",
       " 23: 'MMIRS',\n",
       " 24: 'MMIRS_1024',\n",
       " 25: 'Binospec',\n",
       " 26: 'Binospec_1024',\n",
       " 38: 'DECam',\n",
       " 39: 'Mont4k'}"
      ]
     },
     "execution_count": 21,
     "metadata": {},
     "output_type": "execute_result"
    }
   ],
   "source": [
    "instrument_dict"
   ]
  },
  {
   "cell_type": "markdown",
   "metadata": {},
   "source": [
    "# Define rotation and reproject functions"
   ]
  },
  {
   "cell_type": "code",
   "execution_count": 22,
   "metadata": {},
   "outputs": [],
   "source": [
    "def rotate(footprint, angle):\n",
    "        #footprint is a list of vertices points\n",
    "        #   vertice points = [ra, dec]\n",
    "\n",
    "        # angle is the pos_angle of the pointing\n",
    "\n",
    "        rot_footprint = []\n",
    "        for p in footprint:\n",
    "                x, y = p[0], p[1]\n",
    "                r = math.sqrt(x*x + y*y)\n",
    "                if x < 0:\n",
    "                        r = (-1.0)*r\n",
    "                theta = math.atan(y/x)-angle\n",
    "                new_x = r*math.cos(theta)\n",
    "                new_y = r*math.sin(theta)\n",
    "                rot_footprint.append([new_x, new_y])\n",
    "\n",
    "        return rot_footprint"
   ]
  },
  {
   "cell_type": "code",
   "execution_count": 23,
   "metadata": {},
   "outputs": [],
   "source": [
    "def project(footprint, _ra, _dec):\n",
    "        #footprint is a list of vertices points\n",
    "        #   vertice points = [ra, dec]\n",
    "\n",
    "        #_ra and _dec are the translated coordinates\n",
    "\n",
    "        proj_footprint = []\n",
    "        for p in footprint:\n",
    "            if p[0]+_ra > 360:\n",
    "                  ra = 360 - p[0]+_ra\n",
    "            elif p[0]+_ra < 0:\n",
    "                  ra = 360 + p[0]+_ra\n",
    "            else:\n",
    "                  ra = p[0] + _ra\n",
    "\n",
    "            if p[1]+_dec > 90:\n",
    "                dec = 90 - p[1]+_dec\n",
    "            elif p[1]+_dec < -90:\n",
    "                dec = -90 + p[1] + _dec\n",
    "#             elif p[1]+_dec < 0:\n",
    "#                   dec = 90 -  p[1]+_dec\n",
    "            else:\n",
    "                  dec = p[1] + _dec\n",
    "\n",
    "            proj_footprint.append([ra, dec])\n",
    "        return proj_footprint"
   ]
  },
  {
   "cell_type": "markdown",
   "metadata": {},
   "source": [
    "# Functions for building the JS objects"
   ]
  },
  {
   "cell_type": "code",
   "execution_count": 24,
   "metadata": {},
   "outputs": [],
   "source": [
    "#this takes a polygon in skycoords in the form of a list of tuples of ra,decs ie ((0,0)(0,1)(1,1)(1,0))\n",
    "#and returns a footprint object\n",
    "def polygons2footprints(polygons):\n",
    "    #split list of poly corners into ra list and dec list\n",
    "    footprints=\"\"\n",
    "    first = True\n",
    "    for polygon in polygons:\n",
    "        if first == True:\n",
    "            first = False\n",
    "        else:\n",
    "            footprints += ','\n",
    "        if type(polygon[0]) != list:\n",
    "            polygon = [l.tolist() for l in polygon]\n",
    "    \n",
    "        footprint = f\"A.polygon({polygon})\"\n",
    "        footprints += footprint\n",
    "    return footprints"
   ]
  },
  {
   "cell_type": "code",
   "execution_count": 25,
   "metadata": {},
   "outputs": [],
   "source": [
    "def createOverlayObject(instrumentname,footprints,color):\n",
    "    javasafe_name = ''.join(e for e in instrumentname if e.isalnum())\n",
    "    commandstring = f\"var {javasafe_name} = A.graphicOverlay({{color: '{color}', lineWidth: 2, name:'{instrumentname}'}});\\n\"\n",
    "    commandstring += f\"aladin.addOverlay({javasafe_name});\\n\"\n",
    "    commandstring += f\"{javasafe_name}.addFootprints([{footprints}]);\"\n",
    "    \n",
    "    return commandstring"
   ]
  },
  {
   "cell_type": "markdown",
   "metadata": {},
   "source": [
    "# Get cracking with the building the list of actual footprints"
   ]
  },
  {
   "cell_type": "code",
   "execution_count": 26,
   "metadata": {},
   "outputs": [],
   "source": [
    "final_foots=[]\n",
    "for point in pointings:\n",
    "    instrument_id = point[0]\n",
    "    ra = point[1]\n",
    "    dec= point[2]\n",
    "    pos_angle = point[3]\n",
    "    \n",
    "    footprint = footprints_dict[instrument_id]\n",
    "    #    name = instrument_dict[instrument_id]\n",
    "\n",
    "    rotated_foot = rotate(footprint, pos_angle)\n",
    "    projected_foot = project(rotated_foot, ra,dec) #reproject to RA, Dec of pointing\n",
    "    #final_foot = rotate(projected_foot, pos_angle) #rotate in place accord to positition angle\n",
    "    \n",
    "    final_foots.append([instrument_id, projected_foot])"
   ]
  },
  {
   "cell_type": "code",
   "execution_count": 27,
   "metadata": {},
   "outputs": [],
   "source": [
    "final_foots.sort() #sort by instrument ID"
   ]
  },
  {
   "cell_type": "code",
   "execution_count": 28,
   "metadata": {},
   "outputs": [],
   "source": [
    "from itertools import *\n",
    "from operator import itemgetter, attrgetter\n",
    "\n",
    "groups = groupby(final_foots, key=itemgetter(0))"
   ]
  },
  {
   "cell_type": "code",
   "execution_count": 29,
   "metadata": {},
   "outputs": [],
   "source": [
    "result = []\n",
    "for key,valuesiter in groupby(final_foots, key=itemgetter(0)):\n",
    "    result.append(dict(type=key, items=list(v[1] for v in valuesiter)))"
   ]
  },
  {
   "cell_type": "code",
   "execution_count": 32,
   "metadata": {},
   "outputs": [],
   "source": [
    "colorlist=['#e6194B', '#3cb44b', '#ffe119', '#4363d8', '#f58231', '#42d4f4', '#f032e6', '#fabebe', '#469990', '#e6beff', '#9A6324', '#fffac8', '#800000', '#aaffc3', '#000075', '#a9a9a9']"
   ]
  },
  {
   "cell_type": "code",
   "execution_count": 33,
   "metadata": {},
   "outputs": [],
   "source": [
    "color = colorlist[0]\n",
    "contours = polygons2footprints(pathlist)\n",
    "overlayObject = createOverlayObject('GW Contours',contours,color)\n",
    "i = 1\n",
    "payload = f\"{overlayObject}\\n\"\n",
    "for element in result:\n",
    "    instrument_num = element['type']\n",
    "    polylist = element['items']\n",
    "    footprints = polygons2footprints(polylist)\n",
    "    color=colorlist[i]\n",
    "    instrumentname = instrument_dict[instrument_num]\n",
    "    overlayObject = createOverlayObject(instrumentname,footprints,color)\n",
    "    payload += f\"{overlayObject}\\n\"\n",
    "    i+=1\n"
   ]
  },
  {
   "cell_type": "code",
   "execution_count": 34,
   "metadata": {},
   "outputs": [],
   "source": [
    "html = \"\"\"\n",
    "<!DOCTYPE>\n",
    "<html>\n",
    "  <body>\n",
    "    <h1>Swift/UVOT follow-up of S190510g</h1>\n",
    "<link rel=\"stylesheet\" href=\"http://aladin.u-strasbg.fr/AladinLite/api/v2/latest/aladin.min.css\" />\n",
    "<script type=\"text/javascript\" src=\"http://code.jquery.com/jquery-1.9.1.min.js\" charset=\"utf-8\"></script>\n",
    "<div id=\"aladin-lite-div\" style=\"width:900px;height:500px;\"></div>\n",
    "<script type=\"text/javascript\" src=\"http://aladin.u-strasbg.fr/AladinLite/api/v2/latest/aladin.min.js\" charset=\"utf-8\"></script>\n",
    "\n",
    "<!-- Creation of Aladin Lite instance with initial parameters -->\n",
    "<script type=\"text/javascript\">\n",
    "    var aladin = A.aladin('#aladin-lite-div', {survey: \"P/DSS2/color\", fov:1.5, target: \"90 -30\"});\n",
    "    $('input[name=survey]').change(function() {\n",
    "    aladin.setImageSurvey($(this).val());});\\n\"\"\"\n",
    "\n",
    "tail = \"\"\"\n",
    "</script>\n",
    "  </body>\n",
    "</html>\n",
    "\"\"\""
   ]
  },
  {
   "cell_type": "code",
   "execution_count": 35,
   "metadata": {},
   "outputs": [],
   "source": [
    "site=html+payload+tail"
   ]
  },
  {
   "cell_type": "code",
   "execution_count": 36,
   "metadata": {},
   "outputs": [],
   "source": [
    "file1 = open(\"index.html\",\"w\") \n",
    "file1.write(site)\n",
    "file1.close() "
   ]
  },
  {
   "cell_type": "code",
   "execution_count": null,
   "metadata": {},
   "outputs": [],
   "source": []
  }
 ],
 "metadata": {
  "kernelspec": {
   "display_name": "Python 3",
   "language": "python",
   "name": "python3"
  },
  "language_info": {
   "codemirror_mode": {
    "name": "ipython",
    "version": 3
   },
   "file_extension": ".py",
   "mimetype": "text/x-python",
   "name": "python",
   "nbconvert_exporter": "python",
   "pygments_lexer": "ipython3",
   "version": "3.7.4"
  }
 },
 "nbformat": 4,
 "nbformat_minor": 2
}
