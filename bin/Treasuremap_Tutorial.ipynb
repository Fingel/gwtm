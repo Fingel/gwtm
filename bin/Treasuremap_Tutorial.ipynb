{
 "cells": [
  {
   "cell_type": "markdown",
   "metadata": {},
   "source": [
    "# Treasuremap tutorial\n",
    "\n",
    "All tutorial documentation can be found at http://treasuremap.space/documentation"
   ]
  },
  {
   "cell_type": "markdown",
   "metadata": {},
   "source": [
    "# Section 1 - Basic API functions"
   ]
  },
  {
   "cell_type": "code",
   "execution_count": 1,
   "metadata": {},
   "outputs": [],
   "source": [
    "import requests\n",
    "import urllib.parse\n",
    "import os, sys, json\n",
    "\n",
    "#set your api_token here:\n",
    "BASE = 'http://treasuremap.space/api/v0'\n",
    "api_token = \"abcdefghijYOUR-API-TOKENklmnopqrstuvwxyz\""
   ]
  },
  {
   "cell_type": "markdown",
   "metadata": {},
   "source": [
    "## Section 1.1 - Querying Pointings\n",
    "Here we will query all of the pointings for a given event, with various filtering parameters. All of the filtering parameters are described in the API documentatoin page for this GET endpoint"
   ]
  },
  {
   "cell_type": "code",
   "execution_count": 2,
   "metadata": {},
   "outputs": [
    {
     "name": "stdout",
     "output_type": "stream",
     "text": [
      "There are 12 pointings\n",
      "{\"id\": 4139, \"status\": \"completed\", \"position\": \"POINT (-112.788 16.5661)\", \"galaxy_catalog\": \"\", \"galaxy_catalogid\": \"\", \"instrumentid\": 11, \"depth\": 21.3, \"depth_err\": \"\", \"depth_unit\": 1, \"time\": \"2019-04-25T09:34:31\", \"datecreated\": \"2019-08-19T20:43:10.239772\", \"dateupdated\": \"\", \"submitterid\": 3, \"pos_angle\": 0.0, \"band\": \"open\", \"doi_url\": \"\", \"doi_id\": \"\"}\n"
     ]
    }
   ],
   "source": [
    "TARGET = 'pointings'\n",
    "\n",
    "#define the filtering parameters \n",
    "#grab all of the completed pointings taken with a specific instrument for a given event\n",
    "\n",
    "graceid = 'S190425z'\n",
    "instrument = 'CSS'\n",
    "\n",
    "params = {\n",
    "    \"api_token\":api_token,\n",
    "    \"instrument\":instrument,\n",
    "    \"graceid\":graceid,\n",
    "    \"status\":\"completed\"\n",
    "}\n",
    "\n",
    "url = \"{}/{}?{}\".format(BASE, TARGET, urllib.parse.urlencode(params))\n",
    "r = requests.get(url = url)\n",
    "print(\"There are %s pointings\" % len(json.loads(r.text)))\n",
    "\n",
    "#print the first\n",
    "print(json.loads(r.text)[0])"
   ]
  },
  {
   "cell_type": "markdown",
   "metadata": {},
   "source": [
    "## Section 1.2 - Querying instruments"
   ]
  },
  {
   "cell_type": "code",
   "execution_count": 3,
   "metadata": {},
   "outputs": [
    {
     "name": "stdout",
     "output_type": "stream",
     "text": [
      "Requested Instrument Info\n",
      "{\"id\": 47, \"instrument_name\": \"ZTF\", \"nickname\": \"None\", \"instrument_type\": \"photometric\", \"datecreated\": \"2019-10-25T18:06:44.012811\", \"submitterid\": 52}\n"
     ]
    }
   ],
   "source": [
    "TARGET = 'instruments'\n",
    "\n",
    "# type can be photometric or spectroscopic\n",
    "params = {\n",
    "            \"api_token\":api_token,\n",
    "            \"type\":\"photometric\",\n",
    "            \"name\":\"ZTF\"\n",
    "        }\n",
    "\n",
    "url = \"{}/{}?{}\".format(BASE, TARGET, urllib.parse.urlencode(params))\n",
    "r = requests.get(url = url)\n",
    "\n",
    "print(\"Requested Instrument Info\")\n",
    "print(json.loads(r.text)[0])"
   ]
  },
  {
   "cell_type": "markdown",
   "metadata": {},
   "source": [
    "## Section 1.3 - Submitting planned pointings"
   ]
  },
  {
   "cell_type": "code",
   "execution_count": 4,
   "metadata": {},
   "outputs": [
    {
     "name": "stdout",
     "output_type": "stream",
     "text": [
      "{\"ERRORS\":[],\"WARNINGS\":[],\"pointing_ids\":[13613]}\n",
      "\n"
     ]
    }
   ],
   "source": [
    "TARGET = 'pointings'\n",
    "\n",
    "#To post pointings you need to first declare the LIGO Gravitational graceid\n",
    "graceid = 'TEST_EVENT'\n",
    "\n",
    "#Set some parameters\n",
    "ra, dec='256.','-12.'\n",
    "time='2019-11-11T5:45:00.00'\n",
    "instrumentid=\"11\"\n",
    "\n",
    "pointings = [\n",
    "    {\n",
    "        \"status\":\"planned\",\n",
    "        \"position\":\"POINT(\"+ra+\" \"+dec+\")\",\n",
    "        \"instrumentid\":instrumentid,\n",
    "        \"pos_angle\":20.0,\n",
    "        \"time\":time,\n",
    "        \"band\":\"open\",\n",
    "        \"depth\":21.5,\n",
    "        \"depth_unit\":'ab_mag'\n",
    "    }\n",
    "]\n",
    "\n",
    "json_data = {\n",
    "    \"graceid\":graceid,\n",
    "    \"api_token\":api_token,\n",
    "    \"pointings\":pointings\n",
    "}\n",
    "r = requests.post(url = BASE+'/'+TARGET, json = json_data)\n",
    "print(r.text)"
   ]
  },
  {
   "cell_type": "markdown",
   "metadata": {},
   "source": [
    "## Section 1.4 - Submitting completed pointings"
   ]
  },
  {
   "cell_type": "code",
   "execution_count": 5,
   "metadata": {},
   "outputs": [
    {
     "name": "stdout",
     "output_type": "stream",
     "text": [
      "{\"ERRORS\":[],\"WARNINGS\":[],\"pointing_ids\":[13614]}\n",
      "\n"
     ]
    }
   ],
   "source": [
    "TARGET = 'pointings'\n",
    "\n",
    "#To post pointings you need to first declare the LIGO Gravitational graceid\n",
    "graceid = \"TEST_EVENT\"\n",
    "\n",
    "#Set some parameters\n",
    "ra,dec='257.','-12.'\n",
    "time='2019-11-11T12:20:51.00'\n",
    "instrumentid=\"11\"\n",
    "\n",
    "pointings = [\n",
    "    {\n",
    "        \"status\":\"completed\",\n",
    "        \"position\":\"POINT(\"+ra+\" \"+dec+\")\",\n",
    "        \"instrumentid\":instrumentid,\n",
    "        \"pos_angle\":0.0,\n",
    "        \"time\":time,\n",
    "        \"band\":\"open\",\n",
    "        \"depth\":21.5,\n",
    "        \"depth_unit\":'ab_mag'\n",
    "    }\n",
    "]\n",
    "\n",
    "json_data = {\n",
    "    \"graceid\":graceid,\n",
    "    \"api_token\":api_token,\n",
    "    \"pointings\":pointings\n",
    "}\n",
    "r = requests.post(url = BASE+'/'+TARGET, json = json_data)\n",
    "print(r.text)"
   ]
  },
  {
   "cell_type": "markdown",
   "metadata": {},
   "source": [
    "# Section 2. Other API features"
   ]
  },
  {
   "cell_type": "markdown",
   "metadata": {},
   "source": [
    "## Section 2.1 Getting Instrument Information"
   ]
  },
  {
   "cell_type": "code",
   "execution_count": 6,
   "metadata": {},
   "outputs": [],
   "source": [
    "#Using this function to convert the string Polygons to a list of points\n",
    "def sanatize_footprint_ccds(ccds):\n",
    "    footprint_ccds = []\n",
    "    for footprint in ccds:\n",
    "        sanitized = footprint.strip('POLYGON ').strip(')(').split(',')\n",
    "        polygon = []\n",
    "        for vertex in sanitized:\n",
    "            obj = vertex.split()\n",
    "            ra = float(obj[0])\n",
    "            dec = float(obj[1])\n",
    "            polygon.append([ra,dec])\n",
    "        footprint_ccds.append(polygon)\n",
    "    return footprint_ccds"
   ]
  },
  {
   "cell_type": "code",
   "execution_count": 8,
   "metadata": {},
   "outputs": [
    {
     "name": "stdout",
     "output_type": "stream",
     "text": [
      "Requested Footprint Info\n"
     ]
    },
    {
     "data": {
      "image/png": "[encoded data removed]",
      "text/plain": [
       "<Figure size 432x288 with 1 Axes>"
      ]
     },
     "metadata": {
      "needs_background": "light"
     },
     "output_type": "display_data"
    }
   ],
   "source": [
    "# Getting Instrument Footprint\n",
    "import matplotlib.pyplot as plt\n",
    "from matplotlib.patches import Polygon\n",
    "from matplotlib.collections import PatchCollection\n",
    "\n",
    "TARGET = 'footprints'\n",
    "\n",
    "params = {\n",
    "            \"api_token\":api_token,\n",
    "            \"name\":\"ZTF\"\n",
    "        }\n",
    "\n",
    "url = \"{}/{}?{}\".format(BASE, TARGET, urllib.parse.urlencode(params))\n",
    "r = requests.get(url = url)\n",
    "\n",
    "print(\"Requested Footprint Info\")\n",
    "\n",
    "footprints = json.loads(r.text)\n",
    "polygons = []\n",
    "patches = []\n",
    "\n",
    "#This gets all of the Polygon information from the json list\n",
    "for f in footprints:\n",
    "    f_info = json.loads(f)\n",
    "    polygons.append(f_info['footprint'])\n",
    "\n",
    "#converts the polygons to a list of list of points (list of polygons)\n",
    "sanatized_ccds = sanatize_footprint_ccds(polygons)\n",
    "\n",
    "#gather the points for ylim and xlim\n",
    "xs, ys = [], []\n",
    "\n",
    "for sc in sanatized_ccds:\n",
    "    #add the polygon list of points to the matplotlib patch collection\n",
    "    patches.append(Polygon(sc, True))\n",
    "    for p in sc:\n",
    "        xs.append(p[0])\n",
    "        ys.append(p[1])\n",
    "    \n",
    "p = PatchCollection(patches, alpha=0.4)\n",
    "\n",
    "fig, ax = plt.subplots()\n",
    "ax.set_xlim(min(xs)-.1, max(xs)+.1)\n",
    "ax.set_ylim(min(ys)-.1, max(ys)+.1)\n",
    "ax.add_collection(p)\n",
    "plt.show()"
   ]
  }
 ],
 "metadata": {
  "kernelspec": {
   "display_name": "Python 3",
   "language": "python",
   "name": "python3"
  },
  "language_info": {
   "codemirror_mode": {
    "name": "ipython",
    "version": 3
   },
   "file_extension": ".py",
   "mimetype": "text/x-python",
   "name": "python",
   "nbconvert_exporter": "python",
   "pygments_lexer": "ipython3",
   "version": "3.7.3"
  }
 },
 "nbformat": 4,
 "nbformat_minor": 2
}
